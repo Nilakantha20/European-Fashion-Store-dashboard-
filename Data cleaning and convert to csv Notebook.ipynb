{
 "cells": [
  {
   "cell_type": "code",
   "execution_count": 0,
   "metadata": {
    "application/vnd.databricks.v1+cell": {
     "cellMetadata": {
      "byteLimit": 2048000,
      "rowLimit": 10000
     },
     "inputWidgets": {},
     "nuid": "f233c9ad-9c36-4b08-8e8d-021f9eb2af62",
     "showTitle": false,
     "tableResultSettingsMap": {},
     "title": ""
    }
   },
   "outputs": [],
   "source": [
    "%pip install openpyxl\n",
    "%restart_python"
   ]
  },
  {
   "cell_type": "code",
   "execution_count": 0,
   "metadata": {
    "application/vnd.databricks.v1+cell": {
     "cellMetadata": {
      "byteLimit": 2048000,
      "rowLimit": 10000
     },
     "inputWidgets": {},
     "nuid": "3f3f4e60-d72c-480f-aa84-d1053afb24b1",
     "showTitle": false,
     "tableResultSettingsMap": {},
     "title": ""
    }
   },
   "outputs": [],
   "source": [
    "%pip install -q openpyxl pandas\n",
    "import pandas as pd\n",
    "import unicodedata"
   ]
  },
  {
   "cell_type": "code",
   "execution_count": 0,
   "metadata": {
    "application/vnd.databricks.v1+cell": {
     "cellMetadata": {
      "byteLimit": 2048000,
      "rowLimit": 10000
     },
     "inputWidgets": {},
     "nuid": "e1da4600-7ab9-4c81-91aa-1942c20fe9f5",
     "showTitle": false,
     "tableResultSettingsMap": {},
     "title": ""
    }
   },
   "outputs": [],
   "source": [
    "import numpy as np\n",
    "import matplotlib.pyplot as plt\n",
    "import seaborn as sns"
   ]
  },
  {
   "cell_type": "code",
   "execution_count": 0,
   "metadata": {
    "application/vnd.databricks.v1+cell": {
     "cellMetadata": {
      "byteLimit": 2048000,
      "rowLimit": 10000
     },
     "inputWidgets": {},
     "nuid": "097791f9-dbff-4a43-93cf-4bc93821f04f",
     "showTitle": false,
     "tableResultSettingsMap": {},
     "title": ""
    }
   },
   "outputs": [],
   "source": [
    "def sanitize_and_disambiguate_columns(columns):\n",
    "\n",
    "    seen = {}\n",
    "\n",
    "    result = []\n",
    " \n",
    "    for col in columns:\n",
    "\n",
    "        if not isinstance(col, str):\n",
    "\n",
    "            col = str(col)\n",
    "\n",
    "        original = col\n",
    "\n",
    "        clean = unicodedata.normalize(\"NFKC\", col).strip()\n",
    "\n",
    "        clean = clean.replace(' ', '_').replace(';', '_').replace(',', '_').replace('{', '_').replace('}', '_').replace('(', '_').replace(')', '_').replace('\\n', '_').replace('\\t', '_').replace('=', '_')\n",
    "\n",
    "        base = clean\n",
    "\n",
    "        key = clean.lower()\n",
    "\n",
    "        i = 1\n",
    " \n",
    "        while key in seen:\n",
    "\n",
    "            if \"desc\" in original.lower() and \"abbrev\" not in key:\n",
    "\n",
    "                clean = f\"{base}_abbrev\"\n",
    "\n",
    "            else:\n",
    "\n",
    "                clean = f\"{base}_{i}\"\n",
    "\n",
    "                i += 1\n",
    "\n",
    "            key = clean.lower()\n",
    " \n",
    "        seen[key] = True\n",
    "\n",
    "        result.append(clean)\n",
    "\n",
    "    return result"
   ]
  },
  {
   "cell_type": "code",
   "execution_count": 0,
   "metadata": {
    "application/vnd.databricks.v1+cell": {
     "cellMetadata": {
      "byteLimit": 2048000,
      "rowLimit": 10000
     },
     "inputWidgets": {},
     "nuid": "26624164-0025-45c9-9535-96acca9f978a",
     "showTitle": false,
     "tableResultSettingsMap": {},
     "title": ""
    }
   },
   "outputs": [],
   "source": [
    "\n",
    "#Read the salesitem file\n",
    "df=pd.read_excel('/Volumes/my_catalog/my_schema/my_volume/dataset_fashion_store_salesitems.xlsx')\n",
    "df.head()"
   ]
  },
  {
   "cell_type": "code",
   "execution_count": 0,
   "metadata": {
    "application/vnd.databricks.v1+cell": {
     "cellMetadata": {
      "byteLimit": 2048000,
      "rowLimit": 10000
     },
     "inputWidgets": {},
     "nuid": "a3495c09-15f4-415c-adb9-dab9f16fe2c2",
     "showTitle": false,
     "tableResultSettingsMap": {},
     "title": ""
    }
   },
   "outputs": [],
   "source": [
    "display(df.isnull().sum())"
   ]
  },
  {
   "cell_type": "code",
   "execution_count": 0,
   "metadata": {
    "application/vnd.databricks.v1+cell": {
     "cellMetadata": {
      "byteLimit": 2048000,
      "rowLimit": 10000
     },
     "inputWidgets": {},
     "nuid": "7dd23cff-d2c5-4702-9728-aef626298420",
     "showTitle": false,
     "tableResultSettingsMap": {},
     "title": ""
    }
   },
   "outputs": [],
   "source": [
    "df['discount_applied'] = df['discount_applied'].fillna(\n",
    "    df.apply(lambda row: 0 if row['discounted'] == 0 else row['original_price'] - row['unit_price'], axis=1)\n",
    ")\n",
    "df['discounted']=df['discounted'].fillna(df['discount_applied']!=0)"
   ]
  },
  {
   "cell_type": "code",
   "execution_count": 0,
   "metadata": {
    "application/vnd.databricks.v1+cell": {
     "cellMetadata": {
      "byteLimit": 2048000,
      "rowLimit": 10000
     },
     "inputWidgets": {},
     "nuid": "68a47366-a702-43d7-aa8a-e315497223bd",
     "showTitle": false,
     "tableResultSettingsMap": {},
     "title": ""
    }
   },
   "outputs": [],
   "source": [
    "display(df.isnull().sum())"
   ]
  },
  {
   "cell_type": "code",
   "execution_count": 0,
   "metadata": {
    "application/vnd.databricks.v1+cell": {
     "cellMetadata": {
      "byteLimit": 2048000,
      "rowLimit": 10000
     },
     "inputWidgets": {},
     "nuid": "f35b2fbc-f5dd-4131-8cd0-fc63ce8581ee",
     "showTitle": false,
     "tableResultSettingsMap": {},
     "title": ""
    }
   },
   "outputs": [],
   "source": [
    "display(df)"
   ]
  },
  {
   "cell_type": "code",
   "execution_count": 0,
   "metadata": {
    "application/vnd.databricks.v1+cell": {
     "cellMetadata": {
      "byteLimit": 2048000,
      "rowLimit": 10000
     },
     "inputWidgets": {},
     "nuid": "7d30ca0c-4907-4f0d-b32e-c349a8eccbe2",
     "showTitle": false,
     "tableResultSettingsMap": {},
     "title": ""
    }
   },
   "outputs": [],
   "source": [
    "path = f\"/Volumes/my_catalog/my_schema/my_volume/dataset_fashion_store_salesitems.xlsx\"\n",
    "\n",
    "salesitem = pd.read_excel(path, engine='openpyxl')\n",
    " \n",
    "print(\"🧾 Original columns:\", salesitem.columns.tolist())"
   ]
  },
  {
   "cell_type": "code",
   "execution_count": 0,
   "metadata": {
    "application/vnd.databricks.v1+cell": {
     "cellMetadata": {
      "byteLimit": 2048000,
      "rowLimit": 10000
     },
     "inputWidgets": {},
     "nuid": "75632815-8a88-4be9-aed6-c43f7dffe1f0",
     "showTitle": false,
     "tableResultSettingsMap": {},
     "title": ""
    }
   },
   "outputs": [],
   "source": [
    "salesitem.columns = sanitize_and_disambiguate_columns(salesitem.columns)\n",
    " \n",
    "print(\"🧼 Sanitized columns:\", salesitem.columns.tolist())"
   ]
  },
  {
   "cell_type": "code",
   "execution_count": 0,
   "metadata": {
    "application/vnd.databricks.v1+cell": {
     "cellMetadata": {
      "byteLimit": 2048000,
      "rowLimit": 10000
     },
     "inputWidgets": {},
     "nuid": "a381b6cf-1fbb-4d37-bf5a-abe84604410d",
     "showTitle": false,
     "tableResultSettingsMap": {},
     "title": ""
    }
   },
   "outputs": [],
   "source": [
    "df = spark.createDataFrame(salesitem)\n",
    "\n",
    "df.write.mode(\"overwrite\").saveAsTable(\"my_catalog.my_schema.salesitem\")\n",
    "\n",
    "print(f\"✅ Unity Catalog table created: my_catalog.my_schema.salesitem from {path}\")"
   ]
  },
  {
   "cell_type": "code",
   "execution_count": 0,
   "metadata": {
    "application/vnd.databricks.v1+cell": {
     "cellMetadata": {
      "byteLimit": 2048000,
      "rowLimit": 10000
     },
     "inputWidgets": {},
     "nuid": "7ed7c4b4-b7f9-4c90-87d4-e80023ba3e99",
     "showTitle": false,
     "tableResultSettingsMap": {},
     "title": ""
    }
   },
   "outputs": [],
   "source": [
    "#read sales file\n",
    "sales=pd.read_excel('/Volumes/my_catalog/my_schema/my_volume/dataset_fashion_store_sales.xlsx')\n",
    "display(sales)"
   ]
  },
  {
   "cell_type": "code",
   "execution_count": 0,
   "metadata": {
    "application/vnd.databricks.v1+cell": {
     "cellMetadata": {
      "byteLimit": 2048000,
      "rowLimit": 10000
     },
     "inputWidgets": {},
     "nuid": "ece33c8f-84e5-40b4-99e8-407620361688",
     "showTitle": false,
     "tableResultSettingsMap": {},
     "title": ""
    }
   },
   "outputs": [],
   "source": [
    "display(sales.isnull().sum())"
   ]
  },
  {
   "cell_type": "code",
   "execution_count": 0,
   "metadata": {
    "application/vnd.databricks.v1+cell": {
     "cellMetadata": {
      "byteLimit": 2048000,
      "rowLimit": 10000
     },
     "inputWidgets": {},
     "nuid": "703209b1-d2d4-403b-becc-3e6939b3b919",
     "showTitle": false,
     "tableResultSettingsMap": {},
     "title": ""
    }
   },
   "outputs": [],
   "source": [
    "path = f\"/Volumes/my_catalog/my_schema/my_volume/dataset_fashion_store_sales.xlsx\"\n",
    "\n",
    "sales = pd.read_excel(path, engine='openpyxl')\n",
    " \n",
    "print(\"🧾 Original columns:\", sales.columns.tolist())\n",
    "\n",
    "\n",
    "\n",
    "sales.columns = sanitize_and_disambiguate_columns(sales.columns)\n",
    " \n",
    "print(\"🧼 Sanitized columns:\", sales.columns.tolist())\n",
    "\n",
    "\n",
    "\n",
    "df = spark.createDataFrame(sales)\n",
    "\n",
    "df.write.mode(\"overwrite\").saveAsTable(\"my_catalog.my_schema.sales\")\n",
    "\n",
    "print(f\"✅ Unity Catalog table created: my_catalog.my_schema.sales from {path}\")"
   ]
  },
  {
   "cell_type": "code",
   "execution_count": 0,
   "metadata": {
    "application/vnd.databricks.v1+cell": {
     "cellMetadata": {
      "byteLimit": 2048000,
      "rowLimit": 10000
     },
     "inputWidgets": {},
     "nuid": "1a59232d-2356-483d-a75e-14761cef659b",
     "showTitle": false,
     "tableResultSettingsMap": {},
     "title": ""
    }
   },
   "outputs": [],
   "source": [
    "#read stock file\n",
    "stock=pd.read_excel('/Volumes/my_catalog/my_schema/my_volume/dataset_fashion_store_stock.xlsx')\n",
    "display(stock)"
   ]
  },
  {
   "cell_type": "code",
   "execution_count": 0,
   "metadata": {
    "application/vnd.databricks.v1+cell": {
     "cellMetadata": {
      "byteLimit": 2048000,
      "rowLimit": 10000
     },
     "inputWidgets": {},
     "nuid": "04448d2a-a8b8-486f-aa84-e61950a64c4f",
     "showTitle": false,
     "tableResultSettingsMap": {},
     "title": ""
    }
   },
   "outputs": [],
   "source": [
    "display(stock.isnull().sum())"
   ]
  },
  {
   "cell_type": "code",
   "execution_count": 0,
   "metadata": {
    "application/vnd.databricks.v1+cell": {
     "cellMetadata": {
      "byteLimit": 2048000,
      "rowLimit": 10000
     },
     "inputWidgets": {},
     "nuid": "c7303994-ae5f-448c-bf96-6ba6d7f32c3d",
     "showTitle": false,
     "tableResultSettingsMap": {},
     "title": ""
    }
   },
   "outputs": [],
   "source": [
    "path = f\"/Volumes/my_catalog/my_schema/my_volume/dataset_fashion_store_stock.xlsx\"\n",
    "\n",
    "stock = pd.read_excel(path, engine='openpyxl')\n",
    " \n",
    "print(\"🧾 Original columns:\", stock.columns.tolist())\n",
    "\n",
    "\n",
    "\n",
    "stock.columns = sanitize_and_disambiguate_columns(stock.columns)\n",
    " \n",
    "print(\"🧼 Sanitized columns:\", stock.columns.tolist())\n",
    "\n",
    "\n",
    "\n",
    "df = spark.createDataFrame(stock)\n",
    "\n",
    "df.write.mode(\"overwrite\").option(\"mergeSchema\", \"true\").saveAsTable(\"my_catalog.my_schema.stock\")\n",
    "\n",
    "print(f\"✅ Unity Catalog table created: my_catalog.my_schema.stock from {path}\")"
   ]
  },
  {
   "cell_type": "code",
   "execution_count": 0,
   "metadata": {
    "application/vnd.databricks.v1+cell": {
     "cellMetadata": {
      "byteLimit": 2048000,
      "rowLimit": 10000
     },
     "inputWidgets": {},
     "nuid": "4f6f8b6f-5219-43e8-9564-71c4e3b10ee2",
     "showTitle": false,
     "tableResultSettingsMap": {},
     "title": ""
    }
   },
   "outputs": [],
   "source": [
    "#read customer file\n",
    "customer=pd.read_excel('/Volumes/my_catalog/my_schema/my_volume/dataset_fashion_store_customers.xlsx')\n",
    "display(customer)"
   ]
  },
  {
   "cell_type": "code",
   "execution_count": 0,
   "metadata": {
    "application/vnd.databricks.v1+cell": {
     "cellMetadata": {
      "byteLimit": 2048000,
      "rowLimit": 10000
     },
     "inputWidgets": {},
     "nuid": "3218c088-2e8e-4664-9ab6-af3007608569",
     "showTitle": false,
     "tableResultSettingsMap": {},
     "title": ""
    }
   },
   "outputs": [],
   "source": [
    "display(customer.isnull().sum())"
   ]
  },
  {
   "cell_type": "code",
   "execution_count": 0,
   "metadata": {
    "application/vnd.databricks.v1+cell": {
     "cellMetadata": {
      "byteLimit": 2048000,
      "rowLimit": 10000
     },
     "inputWidgets": {},
     "nuid": "e7e5c99c-156e-48f7-9d70-d0f01a7ced67",
     "showTitle": false,
     "tableResultSettingsMap": {},
     "title": ""
    }
   },
   "outputs": [],
   "source": [
    "path = f\"/Volumes/my_catalog/my_schema/my_volume/dataset_fashion_store_customers.xlsx\"\n",
    "\n",
    "customer = pd.read_excel(path, engine='openpyxl')\n",
    " \n",
    "print(\"🧾 Original columns:\", customer.columns.tolist())\n",
    "\n",
    "\n",
    "\n",
    "customer.columns = sanitize_and_disambiguate_columns(customer.columns)\n",
    " \n",
    "print(\"🧼 Sanitized columns:\", customer.columns.tolist())\n",
    "\n",
    "\n",
    "\n",
    "df = spark.createDataFrame(customer)\n",
    "\n",
    "df.write.mode(\"overwrite\").saveAsTable(\"my_catalog.my_schema.customer\")\n",
    "\n",
    "print(f\"✅ Unity Catalog table created: my_catalog.my_schema.customer from {path}\")"
   ]
  },
  {
   "cell_type": "code",
   "execution_count": 0,
   "metadata": {
    "application/vnd.databricks.v1+cell": {
     "cellMetadata": {
      "byteLimit": 2048000,
      "rowLimit": 10000
     },
     "inputWidgets": {},
     "nuid": "be84b3b4-0f0f-4658-bb67-62a380dab303",
     "showTitle": false,
     "tableResultSettingsMap": {},
     "title": ""
    }
   },
   "outputs": [],
   "source": [
    "#read product file\n",
    "product=pd.read_excel('/Volumes/my_catalog/my_schema/my_volume/dataset_fashion_store_products.xlsx')\n",
    "product['size'] = product['size'].astype(str)\n",
    "display(product)"
   ]
  },
  {
   "cell_type": "code",
   "execution_count": 0,
   "metadata": {
    "application/vnd.databricks.v1+cell": {
     "cellMetadata": {
      "byteLimit": 2048000,
      "rowLimit": 10000
     },
     "inputWidgets": {},
     "nuid": "b69edbde-6cf8-4809-bc38-7945fd4f4f2a",
     "showTitle": false,
     "tableResultSettingsMap": {},
     "title": ""
    }
   },
   "outputs": [],
   "source": [
    "display(product.isnull().sum())"
   ]
  },
  {
   "cell_type": "code",
   "execution_count": 0,
   "metadata": {
    "application/vnd.databricks.v1+cell": {
     "cellMetadata": {
      "byteLimit": 2048000,
      "rowLimit": 10000
     },
     "inputWidgets": {},
     "nuid": "71565926-fbce-4088-abb8-b0a47c24460f",
     "showTitle": false,
     "tableResultSettingsMap": {},
     "title": ""
    }
   },
   "outputs": [],
   "source": [
    "def convert_size(value):\n",
    "    try:\n",
    "        num = int(value)\n",
    "        if 28 <= num <= 30:\n",
    "            return 'S'\n",
    "        elif 31 <= num <= 33:\n",
    "            return 'M'\n",
    "        elif 34 <= num <= 36:\n",
    "            return 'L'\n",
    "        elif 37 <= num <= 39:\n",
    "            return 'XL'\n",
    "        elif 40 <= num <= 42:\n",
    "            return 'XXL'\n",
    "        else:\n",
    "            return 'Unknown'\n",
    "    except:\n",
    "        return value\n",
    "\n",
    "# Apply the conversion\n",
    "product['size'] = product['size'].apply(convert_size)\n",
    "\n"
   ]
  },
  {
   "cell_type": "code",
   "execution_count": 0,
   "metadata": {
    "application/vnd.databricks.v1+cell": {
     "cellMetadata": {
      "byteLimit": 2048000,
      "rowLimit": 10000
     },
     "inputWidgets": {},
     "nuid": "7bdbd271-0b9a-44d7-8872-bd52f751ddf4",
     "showTitle": false,
     "tableResultSettingsMap": {},
     "title": ""
    }
   },
   "outputs": [],
   "source": [
    "display(product)"
   ]
  },
  {
   "cell_type": "code",
   "execution_count": 0,
   "metadata": {
    "application/vnd.databricks.v1+cell": {
     "cellMetadata": {
      "byteLimit": 2048000,
      "rowLimit": 10000
     },
     "inputWidgets": {},
     "nuid": "36992823-a951-4d87-98ff-3452a9114160",
     "showTitle": false,
     "tableResultSettingsMap": {},
     "title": ""
    }
   },
   "outputs": [],
   "source": [
    "#path = f\"/Volumes/my_catalog/my_schema/my_volume/dataset_fashion_store_products.xlsx\"\n",
    "\n",
    "# product = pd.read_excel(path, engine='openpyxl')\n",
    " \n",
    "# print(\"🧾 Original columns:\", product.columns.tolist())\n",
    "\n",
    "# product['size'] = product['size'].astype(str)\n",
    "\n",
    "product.columns = sanitize_and_disambiguate_columns(product.columns)\n",
    " \n",
    "print(\"🧼 Sanitized columns:\", product.columns.tolist())\n",
    "\n",
    "\n",
    "display(product)\n",
    "df = spark.createDataFrame(product)\n",
    "\n",
    "df.write.mode(\"overwrite\").saveAsTable(\"my_catalog.my_schema.product\")\n",
    "display(df)\n",
    "\n",
    "#print(f\"✅ Unity Catalog table created: my_catalog.my_schema.product from {path}\")"
   ]
  },
  {
   "cell_type": "code",
   "execution_count": 0,
   "metadata": {
    "application/vnd.databricks.v1+cell": {
     "cellMetadata": {},
     "inputWidgets": {},
     "nuid": "fdd995f3-9178-406c-ba4c-22e48da07fcb",
     "showTitle": false,
     "tableResultSettingsMap": {},
     "title": ""
    }
   },
   "outputs": [],
   "source": []
  },
  {
   "cell_type": "code",
   "execution_count": 0,
   "metadata": {
    "application/vnd.databricks.v1+cell": {
     "cellMetadata": {
      "byteLimit": 2048000,
      "rowLimit": 10000
     },
     "inputWidgets": {},
     "nuid": "4646e7ef-e346-4162-ba4b-f48f8c7bee93",
     "showTitle": false,
     "tableResultSettingsMap": {},
     "title": ""
    }
   },
   "outputs": [],
   "source": [
    "#read channel file\n",
    "channel=pd.read_excel('/Volumes/my_catalog/my_schema/my_volume/dataset_fashion_store_channels.xlsx')\n",
    "display(channel)\n"
   ]
  },
  {
   "cell_type": "code",
   "execution_count": 0,
   "metadata": {
    "application/vnd.databricks.v1+cell": {
     "cellMetadata": {
      "byteLimit": 2048000,
      "rowLimit": 10000
     },
     "inputWidgets": {},
     "nuid": "735afa69-7c39-4c23-9c8e-679ccc5d2042",
     "showTitle": false,
     "tableResultSettingsMap": {},
     "title": ""
    }
   },
   "outputs": [],
   "source": [
    "display(channel.isnull().sum())"
   ]
  },
  {
   "cell_type": "code",
   "execution_count": 0,
   "metadata": {
    "application/vnd.databricks.v1+cell": {
     "cellMetadata": {
      "byteLimit": 2048000,
      "rowLimit": 10000
     },
     "inputWidgets": {},
     "nuid": "1a34e57a-825f-421a-879d-c22d4e7e894a",
     "showTitle": false,
     "tableResultSettingsMap": {},
     "title": ""
    }
   },
   "outputs": [],
   "source": [
    "path = f\"/Volumes/my_catalog/my_schema/my_volume/dataset_fashion_store_channels.xlsx\"\n",
    "\n",
    "channel = pd.read_excel(path, engine='openpyxl')\n",
    " \n",
    "print(\"🧾 Original columns:\", channel.columns.tolist())\n",
    "\n",
    "\n",
    "\n",
    "channel.columns = sanitize_and_disambiguate_columns(channel.columns)\n",
    " \n",
    "print(\"🧼 Sanitized columns:\", channel.columns.tolist())\n",
    "\n",
    "\n",
    "\n",
    "df = spark.createDataFrame(channel)\n",
    "\n",
    "df.write.mode(\"overwrite\").saveAsTable(\"my_catalog.my_schema.channel\")\n",
    "\n",
    "print(f\"✅ Unity Catalog table created: my_catalog.my_schema.channel from {path}\")"
   ]
  },
  {
   "cell_type": "code",
   "execution_count": 0,
   "metadata": {
    "application/vnd.databricks.v1+cell": {
     "cellMetadata": {
      "byteLimit": 2048000,
      "rowLimit": 10000
     },
     "inputWidgets": {},
     "nuid": "fda97a39-4cae-4443-af78-1209356f05cc",
     "showTitle": false,
     "tableResultSettingsMap": {},
     "title": ""
    }
   },
   "outputs": [],
   "source": []
  }
 ],
 "metadata": {
  "application/vnd.databricks.v1+notebook": {
   "computePreferences": null,
   "dashboards": [],
   "environmentMetadata": {
    "base_environment": "",
    "environment_version": "2"
   },
   "inputWidgetPreferences": null,
   "language": "python",
   "notebookMetadata": {
    "pythonIndentUnit": 4
   },
   "notebookName": "Data cleaning and convert to csv Notebook",
   "widgets": {}
  },
  "language_info": {
   "name": "python"
  }
 },
 "nbformat": 4,
 "nbformat_minor": 0
}
